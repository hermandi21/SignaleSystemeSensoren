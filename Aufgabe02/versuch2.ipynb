{
 "cells": [
  {
   "attachments": {},
   "cell_type": "markdown",
   "metadata": {
    "slideshow": {
     "slide_type": "notes"
    }
   },
   "source": [
    "# 1. Aufnahme und Analyse eines Grauwertkeiles\n",
    "Schreiben Sie eine Routine, die das Bild einliest (Befehl: pyopencv.imread()) und die\n",
    "einzelnen Grauwertstufen als Unterbilder aus dem Originalbild ausliest. Schauen Sie sich\n",
    "dazu nochmals das Thema Indizierung und Index Slicing aus der Python-Einführung\n",
    "an."
   ]
  },
  {
   "cell_type": "code",
   "execution_count": 3,
   "outputs": [
    {
     "name": "stdout",
     "output_type": "stream",
     "text": [
      "\t\tmean\t\t\tstd\n",
      "1\t64.98590909090909\t 4.5946207768046134\n",
      "2\t102.41204545454545\t 2.955187846830569\n",
      "3\t148.65075757575758\t 3.0716567489963342\n",
      "4\t196.47823863636364\t 3.4391875917922152\n",
      "5\t246.70654545454545\t 6.558070868834916\n"
     ]
    }
   ],
   "source": [
    "import cv2\n",
    "import numpy as np\n",
    "\n",
    "\n",
    "image = cv2.imread('Messungen/grauwertkeil.png', cv2.IMREAD_GRAYSCALE)\n",
    "steps = []\n",
    "\n",
    "start =  [10, 110, 250, 390, 520]\n",
    "end =    [90, 230, 370, 510, 620]\n",
    "\n",
    "for i in range(5):\n",
    "    steps.append(image[20:460, start[i]:end[i]])\n",
    "\n",
    "print(\"\\t\\tmean\\t\\t\\tstd\")\n",
    "for index, step in enumerate(steps):\n",
    "    step_array = np.array(step)\n",
    "    print(f\"{index+1}\\t{np.mean(step_array)}\\t {np.std(step_array)}\")"
   ],
   "metadata": {
    "collapsed": false,
    "ExecuteTime": {
     "start_time": "2023-11-16T17:38:31.569994Z",
     "end_time": "2023-11-16T17:38:31.608666Z"
    }
   }
  },
  {
   "cell_type": "markdown",
   "source": [
    "# 2.+3. Aufnahme eines Dunkelbildes & Weißbildes"
   ],
   "metadata": {
    "collapsed": false
   }
  },
  {
   "cell_type": "code",
   "execution_count": 4,
   "outputs": [
    {
     "data": {
      "text/plain": "True"
     },
     "execution_count": 4,
     "metadata": {},
     "output_type": "execute_result"
    }
   ],
   "source": [
    "import cv2\n",
    "import numpy as np\n",
    "import os\n",
    "\n",
    "# Dunkelbild erstellen\n",
    "dunkelbilder = []\n",
    "for i in range(2, 11):\n",
    "    dunkelbild_path = f\"./Messungen/schwarzBild{i}.png\"\n",
    "    dunkelbild = cv2.imread(dunkelbild_path, cv2.IMREAD_GRAYSCALE)\n",
    "\n",
    "    if dunkelbild is None:\n",
    "        print(f\"Fehler beim Lesen des Dunkelbilds: {dunkelbild_path}\")\n",
    "    else:\n",
    "        dunkelbilder.append(dunkelbild)\n",
    "\n",
    "if not dunkelbilder:\n",
    "    print(\"Keine Dunkelbilder gefunden.\")\n",
    "    exit()\n",
    "\n",
    "dunkelbilder_array = np.array(dunkelbilder)\n",
    "dunkelbild_mean = np.mean(dunkelbilder_array, axis=0)\n",
    "\n",
    "# Weißbild erstellen\n",
    "weißbilder = []\n",
    "for i in range(10):\n",
    "    weißbild_path = f\"./Messungen/weissBild{i}.png\"\n",
    "    weißbild = cv2.imread(weißbild_path, cv2.IMREAD_GRAYSCALE)\n",
    "\n",
    "    if weißbild is None:\n",
    "        print(f\"Fehler beim Lesen des Weißbilds: {weißbild_path}\")\n",
    "    else:\n",
    "        weißbilder.append(weißbild)\n",
    "\n",
    "if not weißbilder:\n",
    "    print(\"Keine Weißbilder gefunden.\")\n",
    "    exit()\n",
    "\n",
    "weißbilder_array = np.array(weißbilder)\n",
    "weißbild_mean = np.mean(weißbilder_array, axis=0)\n",
    "weißbild_mean = weißbild_mean - dunkelbild_mean\n",
    "cv2.imwrite(\"weissbild_mean.png\", weißbild_mean)\n",
    "\n",
    "# Kontrastmaximierung des Weißbilds\n",
    "weißbild_contrast = cv2.convertScaleAbs(weißbild_mean, alpha=3.0, beta=0)\n",
    "cv2.imwrite(\"weissbild_contrast.png\", weißbild_contrast)\n",
    "\n",
    "# Normalisierung des Kontrast-maximierten Weißbilds\n",
    "weißbild_normalized = weißbild_contrast / np.mean(weißbild_mean)\n",
    "\n",
    "bild_path = \"./Messungen/grauwertkeil.png\"\n",
    "bild = cv2.imread(bild_path, cv2.IMREAD_GRAYSCALE)\n",
    "\n",
    "if bild is None:\n",
    "    print(f\"Fehler beim Lesen des Beispielbilds: {bild_path}\")\n",
    "    exit()\n",
    "\n",
    "# Korrektur des Grauwertkeils\n",
    "# Das durch Abzug des Dunkelbildes korrigierte Eingangsbild wird anschliessend durch das normierte Weißbild dividiert.\n",
    "graustufenkeil_korrigiert = (bild - dunkelbild_mean) / weißbild_mean\n",
    "cv2.imwrite(\"grauwertkeil_korrigiert.jpg\", graustufenkeil_korrigiert)\n"
   ],
   "metadata": {
    "collapsed": false,
    "ExecuteTime": {
     "start_time": "2023-11-16T17:38:31.604705Z",
     "end_time": "2023-11-16T17:38:31.710614Z"
    }
   }
  }
 ],
 "metadata": {
  "kernelspec": {
   "display_name": "Python 3",
   "language": "python",
   "name": "python3"
  },
  "language_info": {
   "codemirror_mode": {
    "name": "ipython",
    "version": 3
   },
   "file_extension": ".py",
   "mimetype": "text/x-python",
   "name": "python",
   "nbconvert_exporter": "python",
   "pygments_lexer": "ipython3",
   "version": "3.9.13"
  },
  "orig_nbformat": 4
 },
 "nbformat": 4,
 "nbformat_minor": 2
}
