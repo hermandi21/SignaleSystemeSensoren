{
 "cells": [
  {
   "cell_type": "code",
   "execution_count": 1,
   "metadata": {
    "ExecuteTime": {
     "start_time": "2023-05-22T14:59:02.606853Z",
     "end_time": "2023-05-22T14:59:03.535823Z"
    }
   },
   "outputs": [],
   "source": [
    "import sys\n",
    "\n",
    "#sys.path.append('/users/robin/appdata/local/programs/python/python39/lib/site-packages')\n",
    "\n",
    "import cv2\n",
    "import numpy as np\n",
    "import matplotlib.pyplot as plt"
   ]
  },
  {
   "attachments": {},
   "cell_type": "markdown",
   "metadata": {},
   "source": []
  },
  {
   "attachments": {},
   "cell_type": "markdown",
   "metadata": {
    "slideshow": {
     "slide_type": "notes"
    }
   },
   "source": [
    "# Einlesen des Grauwertkeiles\n",
    "Schreiben Sie eine Routine, die das Bild einliest (Befehl: pyopencv.imread()) und die\n",
    "einzelnen Grauwertstufen als Unterbilder aus dem Originalbild ausliest. Schauen Sie sich\n",
    "dazu nochmals das Thema Indizierung und Index Slicing aus der Python-Einführung\n",
    "an."
   ]
  },
  {
   "cell_type": "code",
   "execution_count": 2,
   "metadata": {
    "ExecuteTime": {
     "start_time": "2023-05-22T14:59:03.535500Z",
     "end_time": "2023-05-22T14:59:03.536190Z"
    }
   },
   "outputs": [],
   "source": [
    "\n",
    "bild = cv2.imread('./Messungen/grauwertkeil.png', cv2.IMREAD_GRAYSCALE)\n",
    "#cv2.imshow('image', bild)\n",
    "\n",
    "\n",
    "graustufen = []\n",
    "\n",
    "graustufen.append(bild[20:460, 10:90])   #100\n",
    "graustufen.append(bild[20:460 ,110:230]) #134 \n",
    "graustufen.append(bild[20:460 ,250:370]) #133\n",
    "graustufen.append(bild[20:460 ,390:510]) #132\n",
    "graustufen.append(bild[20:460 ,520:620]) #113\n",
    "\n"
   ]
  },
  {
   "attachments": {},
   "cell_type": "markdown",
   "metadata": {},
   "source": [
    "Bestimmen Sie für jede Stufe den Mittelwert und die Standardabweichung der Grauwerte und tragen Sie diese in eine Tabelle ein. Die zugehörigen Befehle finden sich\n",
    "ebenfalls in der Python-Einführung."
   ]
  },
  {
   "cell_type": "code",
   "execution_count": 3,
   "metadata": {
    "ExecuteTime": {
     "start_time": "2023-05-22T14:59:03.535687Z",
     "end_time": "2023-05-22T14:59:03.536620Z"
    }
   },
   "outputs": [
    {
     "name": "stdout",
     "output_type": "stream",
     "text": [
      "Mittelwerte: [64.98590909090909, 102.41204545454545, 148.65075757575758, 196.47823863636364, 246.70654545454545]\n",
      "Std: [4.5946207768046134, 2.955187846830569, 3.0716567489963342, 3.4391875917922152, 6.558070868834916]\n"
     ]
    }
   ],
   "source": [
    "graustufen_mean = []\n",
    "for i in np.arange(len(graustufen)):\n",
    "    graustufen_mean.append(np.mean(graustufen[i]))\n",
    "\n",
    "graustufen_std = []\n",
    "for i in np.arange(len(graustufen)):\n",
    "    graustufen_std.append(np.std(graustufen[i]))\n",
    "\n",
    "print(f\"Mittelwerte: {graustufen_mean}\")\n",
    "print(f\"Std: {graustufen_std}\")"
   ]
  },
  {
   "attachments": {},
   "cell_type": "markdown",
   "metadata": {},
   "source": [
    "# Dunkelbild\n",
    "\n",
    "Schreiben Sie eine Routine, die die 10 Bilder einliest, in double umwandelt, die Farbbilder\n",
    "in Grauwertbilder umrechnet und ihren pixelweisen Mittelwert berechnet. Sie erhalten\n",
    "also nicht einen einzigen Mittelwert wie in Aufgabe 1, sondern ein ganzes Bild von\n",
    "Mittelwerten in derselben Größe wie die Einzelaufnahmen. Auf diese Weise wird\n",
    "das thermische Ausleserauschen eliminiert, es bleibt nur noch der Offset bzw. der\n",
    "Dunkelstrom jedes Pixels übrig. Das Mittelwertbild ist das Dunkelbild für die von"
   ]
  },
  {
   "cell_type": "code",
   "execution_count": 4,
   "metadata": {
    "ExecuteTime": {
     "start_time": "2023-05-22T14:59:03.535989Z",
     "end_time": "2023-05-22T14:59:06.481376Z"
    }
   },
   "outputs": [
    {
     "name": "stderr",
     "output_type": "stream",
     "text": [
      "Warning: Ignoring XDG_SESSION_TYPE=wayland on Gnome. Use QT_QPA_PLATFORM=wayland to run on Wayland anyway.\n",
      "libGL error: MESA-LOADER: failed to open iris: /home/hermandi/anaconda3/lib/python3.10/site-packages/zmq/backend/cython/../../../../.././libstdc++.so.6: version `GLIBCXX_3.4.30' not found (required by /usr/lib/dri/iris_dri.so) (search paths /usr/lib/dri, suffix _dri)\n",
      "libGL error: failed to load driver: iris\n",
      "libGL error: MESA-LOADER: failed to open swrast: /home/hermandi/anaconda3/lib/python3.10/site-packages/zmq/backend/cython/../../../../.././libstdc++.so.6: version `GLIBCXX_3.4.30' not found (required by /usr/lib/dri/swrast_dri.so) (search paths /usr/lib/dri, suffix _dri)\n",
      "libGL error: failed to load driver: swrast\n"
     ]
    }
   ],
   "source": [
    "dunkelbild = []\n",
    "\n",
    "for i in np.arange(2,11):\n",
    "    dunkelbild.append(cv2.imread(f\"./Messungen/schwarzBild{i}.png\", cv2.IMREAD_GRAYSCALE))\n",
    "\n",
    "dunkelbild = np.array(dunkelbild)\n",
    "dunkelbild_mean = np.mean(dunkelbild)\n",
    "dunkelbild_contrast = cv2.convertScaleAbs(dunkelbild_mean, alpha=1.5, beta=0)\n",
    "\n",
    "cv2.imwrite(\"Dunkelbild_contrast.png\", dunkelbild_contrast)\n",
    "\n",
    "cv2.imshow(\"Kontrastmaximiertes Dunkelbild\", dunkelbild_contrast)\n",
    "cv2.waitKey(0)\n",
    "cv2.destroyAllWindows()\n",
    "\n",
    "\n"
   ]
  },
  {
   "attachments": {},
   "cell_type": "markdown",
   "metadata": {},
   "source": [
    "# 3 Weißbild\n",
    "Nehmen Sie ein leeres Blatt Papier in der gleichen Entfernung wie das Testbild auf.\n",
    "Achten Sie darauf, die Belichtung auf 30-50% der Hellsättigung einzustellen. Wichtig\n",
    "ist auch, dass die Helligkeit des Blattes so gleichmäßig wie möglich ist, also keine\n",
    "Schatten oder unterschiedlich helle Beleuchtung. Machen Sie auch hier 10 Aufnahmen\n",
    "zur Elimination des thermischen Rauschens."
   ]
  },
  {
   "cell_type": "code",
   "execution_count": 5,
   "metadata": {
    "ExecuteTime": {
     "start_time": "2023-05-22T14:59:06.475345Z",
     "end_time": "2023-05-22T14:59:06.572781Z"
    }
   },
   "outputs": [
    {
     "data": {
      "text/plain": "True"
     },
     "execution_count": 5,
     "metadata": {},
     "output_type": "execute_result"
    }
   ],
   "source": [
    "weißbild = []\n",
    "for i in np.arange(0,10):\n",
    "    weißbild.append(cv2.imread(f\"./Messungen/weissBild{i}.png\", cv2.IMREAD_GRAYSCALE))\n",
    "weißbild = np.array(weißbild)\n",
    "\n",
    "weißbild_mean = np.mean(weißbild, axis=0)\n",
    "weißbild_mean = weißbild_mean - dunkelbild_mean\n",
    "cv2.imwrite(\"weissbild_mean.png\", weißbild_mean)\n",
    "\n",
    "weißbild_contrast = cv2.convertScaleAbs(weißbild_mean, alpha=3.0, beta=0)\n",
    "cv2.imwrite(\"weissbild_contrast.png\", weißbild_contrast)\n",
    "\n",
    "weißbild_contrast = weißbild_contrast / (np.mean(weißbild_mean))\n",
    "weißbild_contrast = np.array(weißbild_contrast)\n",
    "bild = np.array(bild)\n",
    "\n",
    "graustufenkeil = bild - dunkelbild_mean\n",
    "graustufenkeil = graustufenkeil / weißbild_mean\n",
    "\n",
    "\n",
    "cv2.imwrite(\"grauwertkeil_korrigiert.jpg\", graustufenkeil)\n",
    "\n",
    "\n",
    "\n",
    " "
   ]
  },
  {
   "attachments": {},
   "cell_type": "markdown",
   "metadata": {},
   "source": [
    "# 4. Pixelfehler\n",
    "\n",
    "Überprüfen Sie Ihr Dunkelbild auf dem Bildschirm auf stuck und hot pixels und Ihr\n",
    "Weißbild auf dead pixels. Markieren Sie diese im Bild und fügen es in Ihr Notebook\n",
    "ein.\n"
   ]
  },
  {
   "cell_type": "code",
   "execution_count": 6,
   "metadata": {
    "ExecuteTime": {
     "start_time": "2023-05-22T14:59:06.581522Z",
     "end_time": "2023-05-22T14:59:09.360238Z"
    }
   },
   "outputs": [
    {
     "name": "stdout",
     "output_type": "stream",
     "text": [
      "stuckpixel: []\n",
      "deadpixle: []\n"
     ]
    }
   ],
   "source": [
    "deadpixels = np.argwhere(weißbild_contrast == 0)\n",
    "stuckpixels = np.argwhere(dunkelbild_contrast == 255)\n",
    "\n",
    "\n",
    "\n",
    "\n",
    "stuckpixel_image = bild.copy()\n",
    "deadpixel_image = bild.copy()\n",
    "\n",
    "for(x, y) in stuckpixels:\n",
    "    stuckpixel_image = cv2.circle(img=stuckpixel_image, center=(x,y), radius=1, color=(255,0,0), thickness=10)\n",
    "cv2.imwrite(\"stuckpixel_image.png\", stuckpixel_image)\n",
    "\n",
    "for(x,y) in deadpixels:\n",
    "    deadpixel_image = cv2.circle(img = stuckpixel_image, center=(x,y), radius = 1, color=(0,0,255), thickness=10)\n",
    "cv2.imwrite(\"deadpixel_image.png\", deadpixel_image)\n",
    "\n",
    "cv2.imshow(\"stuckpixel\", stuckpixel_image)\n",
    "cv2.waitKey(0)\n",
    "cv2.destroyAllWindows()\n",
    "\n",
    "cv2.imshow(\"deadpixel\", deadpixel_image)\n",
    "cv2.waitKey(0)\n",
    "cv2.destroyAllWindows()\n",
    "\n",
    "print(f\"stuckpixel: {stuckpixels}\")\n",
    "print(f\"deadpixle: {deadpixels}\")\n"
   ]
  },
  {
   "attachments": {},
   "cell_type": "markdown",
   "metadata": {},
   "source": [
    "Korrigieren Sie mithilfe Ihres Programms aus Aufgabe 3 das Bild des Grauwertkeils\n",
    "aus Aufgabe 1, speichern Sie es ab und bauen Sie es in Ihr Notebook ein."
   ]
  },
  {
   "cell_type": "code",
   "execution_count": 7,
   "metadata": {
    "ExecuteTime": {
     "start_time": "2023-05-22T14:59:09.352340Z",
     "end_time": "2023-05-22T14:59:10.160756Z"
    }
   },
   "outputs": [],
   "source": [
    "bild_korrigiert = bild\n",
    "\n",
    "for pixel in deadpixels:\n",
    "    y,x = pixel\n",
    "    if x == 0:\n",
    "        bild_korrigiert[y,x] = bild[y, x+1]\n",
    "    elif x == bild.shape[1]-1:\n",
    "        bild_korrigiert[y,x] = bild[y, x-1]\n",
    "    else:\n",
    "        bild_korrigiert[y,x] = bild[y, x-1]\n",
    "\n",
    "\n",
    "for pixel in stuckpixels:\n",
    "    y,x = pixel\n",
    "    if x == 0:\n",
    "        bild_korrigiert[y,x] = bild[y, x+1]\n",
    "    elif x == bild.shape[1]-1:\n",
    "        bild_korrigiert[y,x] = bild[y, x-1]\n",
    "    else:\n",
    "        bild_korrigiert[y,x] = bild[y, x-1]\n",
    "\n",
    "cv2.imwrite(\"bild_korrigiert.png\", bild_korrigiert)\n",
    "cv2.imshow(\"bild_korrigiert\", bild_korrigiert)\n",
    "cv2.waitKey(0)\n",
    "cv2.destroyAllWindows()\n"
   ]
  },
  {
   "cell_type": "code",
   "execution_count": 8,
   "metadata": {
    "ExecuteTime": {
     "start_time": "2023-05-22T14:59:10.164691Z",
     "end_time": "2023-05-22T14:59:10.193920Z"
    }
   },
   "outputs": [
    {
     "name": "stdout",
     "output_type": "stream",
     "text": [
      "Mittelwerte: [42.54195075418274, 77.86349650480862, 123.09922138804711, 172.80918086518597, 228.64249770867573]\n",
      "Std: [3.5892799625713248, 2.002742028928752, 2.272856394472758, 4.239862411889715, 9.387742080542075]\n"
     ]
    }
   ],
   "source": [
    "graustufen_korrigiert = []\n",
    "\n",
    "graustufen_korrigiert.append(bild_korrigiert[20:460, 10:90])   #100\n",
    "graustufen_korrigiert.append(bild_korrigiert[20:460 ,110:230]) #134\n",
    "graustufen_korrigiert.append(bild_korrigiert[20:460 ,250:370]) #133\n",
    "graustufen_korrigiert.append(bild_korrigiert[20:460 ,390:510]) #132\n",
    "graustufen_korrigiert.append(bild_korrigiert[20:460 ,520:620]) #113\n",
    "\n",
    "graustufen_korrigiert_mean = []\n",
    "for i in np.arange(len(graustufen_korrigiert)):\n",
    "    graustufen_korrigiert_mean.append(np.mean(graustufen_korrigiert[i]))\n",
    "\n",
    "graustufen_korrigiert_std = []\n",
    "for i in np.arange(len(graustufen_korrigiert)):\n",
    "    graustufen_korrigiert_std.append(np.std(graustufen_korrigiert[i]))\n",
    "\n",
    "print(f\"Mittelwerte: {graustufen_korrigiert_mean}\")\n",
    "print(f\"Std: {graustufen_korrigiert_std}\")"
   ]
  }
 ],
 "metadata": {
  "kernelspec": {
   "display_name": "Python 3",
   "language": "python",
   "name": "python3"
  },
  "language_info": {
   "codemirror_mode": {
    "name": "ipython",
    "version": 3
   },
   "file_extension": ".py",
   "mimetype": "text/x-python",
   "name": "python",
   "nbconvert_exporter": "python",
   "pygments_lexer": "ipython3",
   "version": "3.9.13"
  },
  "orig_nbformat": 4
 },
 "nbformat": 4,
 "nbformat_minor": 2
}
