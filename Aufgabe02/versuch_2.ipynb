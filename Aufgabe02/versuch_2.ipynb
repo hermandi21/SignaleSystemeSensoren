{
 "cells": [
  {
   "cell_type": "code",
   "execution_count": 1,
   "metadata": {},
   "outputs": [],
   "source": [
    "import sys\n",
    "\n",
    "import cv2\n",
    "import numpy as np\n",
    "import matplotlib.pyplot as plt\n",
    "import concurrent.futures"
   ]
  },
  {
   "cell_type": "code",
   "execution_count": 59,
   "metadata": {},
   "outputs": [
    {
     "name": "stdout",
     "output_type": "stream",
     "text": [
      "\t\tmean\t\t\tstd\n",
      "1\t64.98590909090909\t 4.5946207768046134\n",
      "2\t102.41204545454545\t 2.955187846830569\n",
      "3\t148.65075757575758\t 3.0716567489963342\n",
      "4\t196.47823863636364\t 3.4391875917922152\n",
      "5\t246.70654545454545\t 6.558070868834916\n"
     ]
    }
   ],
   "source": [
    "COLOR_STD = 0.2\n",
    "image = cv2.imread('Messungen/grauwertkeil.png', cv2.IMREAD_GRAYSCALE)\n",
    "steps = []\n",
    "\n",
    "start =  [10, 110, 250, 390, 520]\n",
    "end =    [90, 230, 370, 510, 620]\n",
    "\n",
    "for i in range(5):\n",
    "    steps.append(image[20:460, start[i]:end[i]])\n",
    "    \n",
    "print(\"\\t\\tmean\\t\\t\\tstd\")\n",
    "for index, step in enumerate(steps):\n",
    "    step_array = np.array(step)\n",
    "    print(f\"{index+1}\\t{np.mean(step_array)}\\t {np.std(step_array)}\")"
   ]
  }
 ],
 "metadata": {
  "kernelspec": {
   "display_name": "Python 3",
   "language": "python",
   "name": "python3"
  },
  "language_info": {
   "codemirror_mode": {
    "name": "ipython",
    "version": 3
   },
   "file_extension": ".py",
   "mimetype": "text/x-python",
   "name": "python",
   "nbconvert_exporter": "python",
   "pygments_lexer": "ipython3",
   "version": "3.11.6"
  }
 },
 "nbformat": 4,
 "nbformat_minor": 2
}
