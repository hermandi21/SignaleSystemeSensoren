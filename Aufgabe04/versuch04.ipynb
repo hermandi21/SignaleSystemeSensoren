{
 "cells": [
  {
   "cell_type": "markdown",
   "source": [],
   "metadata": {
    "collapsed": false
   }
  },
  {
   "cell_type": "markdown",
   "source": [
    "a) Python-Routine um lars seine .npy-Dateien als Diagramm darzustellen"
   ],
   "metadata": {
    "collapsed": false
   }
  },
  {
   "cell_type": "code",
   "execution_count": null,
   "outputs": [],
   "source": [
    "import numpy as np\n",
    "import matplotlib.pyplot as plt\n",
    "import os\n",
    "from scipy.fft import fft, fftfreq\n",
    "\n",
    "folders = [\"hoch\", \"links\", \"rechts\", \"tief\"]\n",
    "\n",
    "#44.100 Abtastvorgänge pro Sekunde\n",
    "def cut_signal(data, threshold=0.01, fs=44100):\n",
    "    start_index = 0\n",
    "    for i, sample in enumerate(data):\n",
    "        if abs(sample) > threshold:\n",
    "            start_index = i\n",
    "            break\n",
    "    end_index = start_index + fs\n",
    "    cut_data = data[start_index:end_index]\n",
    "    if len(cut_data) < fs:\n",
    "        cut_data = np.append(cut_data, [0]*(fs - len(cut_data)))\n",
    "    return cut_data\n",
    "\n",
    "for folder in folders:\n",
    "    files = [file for file in os.listdir(f\"lars/{folder}\") if file.endswith(\".npy\")]\n",
    "    n = len(files)\n",
    "    fig, axs = plt.subplots(n, 2, figsize=(10, n*2))\n",
    "    fs = 44100\n",
    "\n",
    "    for i, file in enumerate(files):\n",
    "        data = np.load(f\"lars/{folder}/\" + file)\n",
    "        triggered_data = cut_signal(data)\n",
    "\n",
    "        # Plot original data\n",
    "        axs[i, 0].plot(data)\n",
    "        axs[i, 0].set_title(f\"Original data: {folder}: {file}\")\n",
    "        axs[i, 0].set_xlabel('Sample')\n",
    "        axs[i, 0].set_ylabel('Amplitude')\n",
    "\n",
    "        # Plot triggered data\n",
    "        axs[i, 1].plot(triggered_data)\n",
    "        axs[i, 1].set_title(f\"Triggered data: {folder}: {file}\")\n",
    "        axs[i, 1].set_xlabel('Sample')\n",
    "        axs[i, 1].set_ylabel('Amplitude')\n",
    "\n",
    "    plt.tight_layout()\n",
    "    plt.show()"
   ],
   "metadata": {
    "collapsed": false,
    "ExecuteTime": {
     "start_time": "2023-12-19T14:55:01.204755Z",
     "end_time": "2023-12-19T14:55:07.389342Z"
    }
   }
  },
  {
   "cell_type": "markdown",
   "source": [
    "c) Bestimmung des Amplitudenspektrums\n",
    "Stelle dieses Amplitudenspektrum graphisch dar."
   ],
   "metadata": {
    "collapsed": false
   }
  },
  {
   "cell_type": "code",
   "execution_count": null,
   "outputs": [],
   "source": [
    "# Apply the function to the data\n",
    "for folder in folders:\n",
    "    files = [file for file in os.listdir(f\"lars/{folder}\") if file.endswith(\".npy\")]\n",
    "\n",
    "    # Create a grid of 1 column and enough rows to hold all plots\n",
    "    n = len(files)\n",
    "    fig, axs = plt.subplots(n, 1, figsize=(10, n*2))\n",
    "    fs = 44100\n",
    "\n",
    "    for i, file in enumerate(files):\n",
    "        data = np.load(f\"lars/{folder}/\" + file)\n",
    "        triggered_data = cut_signal(data)\n",
    "\n",
    "        # Compute the amplitude spectrum\n",
    "        N = len(triggered_data)\n",
    "        yf = fft(triggered_data)\n",
    "        xf = fftfreq(N, 1 / 44100)\n",
    "\n",
    "        axs[i].plot(xf, np.abs(yf))\n",
    "        axs[i].set_title(f\"{folder}: {file}\")\n",
    "        axs[i].set_xlabel('Frequenz (Hz)')  # Set x-axis label\n",
    "        axs[i].set_ylabel('Amplitude')  # Set y-axis label\n",
    "\n",
    "    plt.tight_layout()\n",
    "    plt.show()"
   ],
   "metadata": {
    "collapsed": false,
    "ExecuteTime": {
     "start_time": "2023-12-19T14:55:07.383025Z",
     "end_time": "2023-12-19T14:55:10.973348Z"
    }
   }
  },
  {
   "cell_type": "markdown",
   "source": [
    "d) Implementierung des Windowing-Verfahrens"
   ],
   "metadata": {
    "collapsed": false
   }
  },
  {
   "cell_type": "code",
   "execution_count": null,
   "outputs": [],
   "source": [
    "from scipy.signal.windows import gaussian\n",
    "\n",
    "#Noch nicht das Ergebnis das wir wollen glaub\n",
    "def apply_gaussian_window(data, section_size=512):\n",
    "    sections = []\n",
    "    ffts = []\n",
    "    for i in range(0, len(data), section_size // 2):\n",
    "        section = data[i:i+section_size]\n",
    "\n",
    "        # Zero-pad the section to the fixed length\n",
    "        if len(section) < section_size:\n",
    "            section = np.pad(section, (0, section_size - len(section)))\n",
    "\n",
    "        # Create the Gaussian window to match the size of the section\n",
    "        window = gaussian(len(section), std=section_size/4)\n",
    "\n",
    "        # Apply the window to the section\n",
    "        windowed_section = section * window\n",
    "\n",
    "        # Apply FFT to the windowed section\n",
    "        fft_section = fft(windowed_section)\n",
    "\n",
    "        sections.append(windowed_section)\n",
    "        ffts.append(fft_section)\n",
    "\n",
    "    # Compute the average of the FFTs\n",
    "    avg_fft = np.mean(ffts, axis=0)\n",
    "\n",
    "    # Compute the amplitude spectrum\n",
    "    N = len(amplitude_spectrum)\n",
    "    xf = fftfreq(N, 1 / 44100)\n",
    "\n",
    "    return sections, ffts, amplitude_spectrum\n",
    "\n",
    "sections, ffts, amplitude_spectrum = apply_gaussian_window(triggered_data)\n",
    "\n",
    "# Plot the amplitude spectrum\n",
    "plt.plot(xf, amplitude_spectrum)\n",
    "plt.title(f\"{folder}: {file}\")\n",
    "plt.xlabel('Frequenz (Hz)')  # Set x-axis label\n",
    "plt.ylabel('Amplitude')  # Set y-axis label\n",
    "plt.show()\n",
    "\n",
    "\n"
   ],
   "metadata": {
    "collapsed": false,
    "ExecuteTime": {
     "start_time": "2023-12-19T14:56:29.888470Z",
     "end_time": "2023-12-19T14:56:29.938014Z"
    }
   }
  },
  {
   "cell_type": "markdown",
   "source": [],
   "metadata": {
    "collapsed": false
   }
  }
 ],
 "metadata": {
  "kernelspec": {
   "display_name": "Python 3",
   "language": "python",
   "name": "python3"
  },
  "language_info": {
   "codemirror_mode": {
    "name": "ipython",
    "version": 2
   },
   "file_extension": ".py",
   "mimetype": "text/x-python",
   "name": "python",
   "nbconvert_exporter": "python",
   "pygments_lexer": "ipython2",
   "version": "2.7.6"
  }
 },
 "nbformat": 4,
 "nbformat_minor": 0
}
