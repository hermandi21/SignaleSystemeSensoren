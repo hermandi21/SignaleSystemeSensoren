{
 "cells": [
  {
   "cell_type": "markdown",
   "source": [],
   "metadata": {
    "collapsed": false
   }
  },
  {
   "cell_type": "markdown",
   "source": [
    "a) Python-Routine um lars seine .npy-Dateien als Diagramm darzustellen"
   ],
   "metadata": {
    "collapsed": false
   }
  },
  {
   "cell_type": "code",
   "execution_count": null,
   "outputs": [],
   "source": [
    "import numpy as np\n",
    "import matplotlib.pyplot as plt\n",
    "import os\n",
    "from scipy.fft import fft, fftfreq\n",
    "\n",
    "folders = [\"hoch\", \"links\", \"rechts\", \"tief\"]\n",
    "\n",
    "#44.100 Abtastvorgänge pro Sekunde\n",
    "def cut_signal(data, threshold=0.01, fs=44100):\n",
    "    start_index = 0\n",
    "    for i, sample in enumerate(data):\n",
    "        if abs(sample) > threshold:\n",
    "            start_index = i\n",
    "            break\n",
    "    end_index = start_index + fs\n",
    "    cut_data = data[start_index:end_index]\n",
    "    if len(cut_data) < fs:\n",
    "        cut_data = np.append(cut_data, [0]*(fs - len(cut_data)))\n",
    "    return cut_data\n",
    "\n",
    "for folder in folders:\n",
    "    files = [file for file in os.listdir(f\"lars/{folder}\") if file.endswith(\".npy\")]\n",
    "    n = len(files)\n",
    "    fig, axs = plt.subplots(n, 2, figsize=(10, n*2))\n",
    "    fs = 44100\n",
    "\n",
    "    for i, file in enumerate(files):\n",
    "        data = np.load(f\"lars/{folder}/\" + file)\n",
    "        triggered_data = cut_signal(data)\n",
    "\n",
    "        # Plot original data\n",
    "        axs[i, 0].plot(data)\n",
    "        axs[i, 0].set_title(f\"Original data: {folder}: {file}\")\n",
    "        axs[i, 0].set_xlabel('Sample')\n",
    "        axs[i, 0].set_ylabel('Amplitude')\n",
    "\n",
    "        # Plot triggered data\n",
    "        axs[i, 1].plot(triggered_data)\n",
    "        axs[i, 1].set_title(f\"Triggered data: {folder}: {file}\")\n",
    "        axs[i, 1].set_xlabel('Sample')\n",
    "        axs[i, 1].set_ylabel('Amplitude')\n",
    "\n",
    "    plt.tight_layout()\n",
    "    plt.show()"
   ],
   "metadata": {
    "collapsed": false,
    "ExecuteTime": {
     "start_time": "2023-12-19T14:55:01.204755Z",
     "end_time": "2023-12-19T14:55:07.389342Z"
    }
   }
  },
  {
   "cell_type": "markdown",
   "source": [
    "c) Bestimmung des Amplitudenspektrums\n",
    "Stelle dieses Amplitudenspektrum graphisch dar."
   ],
   "metadata": {
    "collapsed": false
   }
  },
  {
   "cell_type": "code",
   "execution_count": null,
   "outputs": [],
   "source": [
    "# Apply the function to the data\n",
    "for folder in folders:\n",
    "    files = [file for file in os.listdir(f\"lars/{folder}\") if file.endswith(\".npy\")]\n",
    "\n",
    "    # Create a grid of 1 column and enough rows to hold all plots\n",
    "    n = len(files)\n",
    "    fig, axs = plt.subplots(n, 1, figsize=(10, n*2))\n",
    "    fs = 44100\n",
    "\n",
    "    for i, file in enumerate(files):\n",
    "        data = np.load(f\"lars/{folder}/\" + file)\n",
    "        triggered_data = cut_signal(data)\n",
    "\n",
    "        # Compute the amplitude spectrum\n",
    "        N = len(triggered_data)\n",
    "        yf = fft(triggered_data)\n",
    "        xf = fftfreq(N, 1 / 44100)\n",
    "\n",
    "        axs[i].plot(xf, np.abs(yf))\n",
    "        axs[i].set_title(f\"{folder}: {file}\")\n",
    "        axs[i].set_xlabel('Frequenz (Hz)')  # Set x-axis label\n",
    "        axs[i].set_ylabel('Amplitude')  # Set y-axis label\n",
    "\n",
    "    plt.tight_layout()\n",
    "    plt.show()"
   ],
   "metadata": {
    "collapsed": false,
    "ExecuteTime": {
     "start_time": "2023-12-19T14:55:07.383025Z",
     "end_time": "2023-12-19T14:55:10.973348Z"
    }
   }
  },
  {
   "cell_type": "markdown",
   "source": [
    "d) Implementierung des Windowing-Verfahrens"
   ],
   "metadata": {
    "collapsed": false
   }
  },
  {
   "cell_type": "code",
   "execution_count": 92,
   "outputs": [
    {
     "ename": "ValueError",
     "evalue": "x and y must have same first dimension, but have shapes (44100,) and (512,)",
     "output_type": "error",
     "traceback": [
      "\u001B[0;31m---------------------------------------------------------------------------\u001B[0m",
      "\u001B[0;31mValueError\u001B[0m                                Traceback (most recent call last)",
      "Cell \u001B[0;32mIn[92], line 38\u001B[0m\n\u001B[1;32m     35\u001B[0m sections, ffts, amplitude_spectrum \u001B[38;5;241m=\u001B[39m apply_gaussian_window(triggered_data)\n\u001B[1;32m     37\u001B[0m \u001B[38;5;66;03m# Plot the amplitude spectrum\u001B[39;00m\n\u001B[0;32m---> 38\u001B[0m plt\u001B[38;5;241m.\u001B[39mplot(xf, amplitude_spectrum)\n\u001B[1;32m     39\u001B[0m plt\u001B[38;5;241m.\u001B[39mtitle(\u001B[38;5;124mf\u001B[39m\u001B[38;5;124m\"\u001B[39m\u001B[38;5;132;01m{\u001B[39;00mfolder\u001B[38;5;132;01m}\u001B[39;00m\u001B[38;5;124m: \u001B[39m\u001B[38;5;132;01m{\u001B[39;00mfile\u001B[38;5;132;01m}\u001B[39;00m\u001B[38;5;124m\"\u001B[39m)\n\u001B[1;32m     40\u001B[0m plt\u001B[38;5;241m.\u001B[39mxlabel(\u001B[38;5;124m'\u001B[39m\u001B[38;5;124mFrequenz (Hz)\u001B[39m\u001B[38;5;124m'\u001B[39m)  \u001B[38;5;66;03m# Set x-axis label\u001B[39;00m\n",
      "File \u001B[0;32m~/miniconda3/lib/python3.11/site-packages/matplotlib/pyplot.py:3578\u001B[0m, in \u001B[0;36mplot\u001B[0;34m(scalex, scaley, data, *args, **kwargs)\u001B[0m\n\u001B[1;32m   3570\u001B[0m \u001B[38;5;129m@_copy_docstring_and_deprecators\u001B[39m(Axes\u001B[38;5;241m.\u001B[39mplot)\n\u001B[1;32m   3571\u001B[0m \u001B[38;5;28;01mdef\u001B[39;00m \u001B[38;5;21mplot\u001B[39m(\n\u001B[1;32m   3572\u001B[0m     \u001B[38;5;241m*\u001B[39margs: \u001B[38;5;28mfloat\u001B[39m \u001B[38;5;241m|\u001B[39m ArrayLike \u001B[38;5;241m|\u001B[39m \u001B[38;5;28mstr\u001B[39m,\n\u001B[0;32m   (...)\u001B[0m\n\u001B[1;32m   3576\u001B[0m     \u001B[38;5;241m*\u001B[39m\u001B[38;5;241m*\u001B[39mkwargs,\n\u001B[1;32m   3577\u001B[0m ) \u001B[38;5;241m-\u001B[39m\u001B[38;5;241m>\u001B[39m \u001B[38;5;28mlist\u001B[39m[Line2D]:\n\u001B[0;32m-> 3578\u001B[0m     \u001B[38;5;28;01mreturn\u001B[39;00m gca()\u001B[38;5;241m.\u001B[39mplot(\n\u001B[1;32m   3579\u001B[0m         \u001B[38;5;241m*\u001B[39margs,\n\u001B[1;32m   3580\u001B[0m         scalex\u001B[38;5;241m=\u001B[39mscalex,\n\u001B[1;32m   3581\u001B[0m         scaley\u001B[38;5;241m=\u001B[39mscaley,\n\u001B[1;32m   3582\u001B[0m         \u001B[38;5;241m*\u001B[39m\u001B[38;5;241m*\u001B[39m({\u001B[38;5;124m\"\u001B[39m\u001B[38;5;124mdata\u001B[39m\u001B[38;5;124m\"\u001B[39m: data} \u001B[38;5;28;01mif\u001B[39;00m data \u001B[38;5;129;01mis\u001B[39;00m \u001B[38;5;129;01mnot\u001B[39;00m \u001B[38;5;28;01mNone\u001B[39;00m \u001B[38;5;28;01melse\u001B[39;00m {}),\n\u001B[1;32m   3583\u001B[0m         \u001B[38;5;241m*\u001B[39m\u001B[38;5;241m*\u001B[39mkwargs,\n\u001B[1;32m   3584\u001B[0m     )\n",
      "File \u001B[0;32m~/miniconda3/lib/python3.11/site-packages/matplotlib/axes/_axes.py:1721\u001B[0m, in \u001B[0;36mAxes.plot\u001B[0;34m(self, scalex, scaley, data, *args, **kwargs)\u001B[0m\n\u001B[1;32m   1478\u001B[0m \u001B[38;5;250m\u001B[39m\u001B[38;5;124;03m\"\"\"\u001B[39;00m\n\u001B[1;32m   1479\u001B[0m \u001B[38;5;124;03mPlot y versus x as lines and/or markers.\u001B[39;00m\n\u001B[1;32m   1480\u001B[0m \n\u001B[0;32m   (...)\u001B[0m\n\u001B[1;32m   1718\u001B[0m \u001B[38;5;124;03m(``'green'``) or hex strings (``'#008000'``).\u001B[39;00m\n\u001B[1;32m   1719\u001B[0m \u001B[38;5;124;03m\"\"\"\u001B[39;00m\n\u001B[1;32m   1720\u001B[0m kwargs \u001B[38;5;241m=\u001B[39m cbook\u001B[38;5;241m.\u001B[39mnormalize_kwargs(kwargs, mlines\u001B[38;5;241m.\u001B[39mLine2D)\n\u001B[0;32m-> 1721\u001B[0m lines \u001B[38;5;241m=\u001B[39m [\u001B[38;5;241m*\u001B[39m\u001B[38;5;28mself\u001B[39m\u001B[38;5;241m.\u001B[39m_get_lines(\u001B[38;5;28mself\u001B[39m, \u001B[38;5;241m*\u001B[39margs, data\u001B[38;5;241m=\u001B[39mdata, \u001B[38;5;241m*\u001B[39m\u001B[38;5;241m*\u001B[39mkwargs)]\n\u001B[1;32m   1722\u001B[0m \u001B[38;5;28;01mfor\u001B[39;00m line \u001B[38;5;129;01min\u001B[39;00m lines:\n\u001B[1;32m   1723\u001B[0m     \u001B[38;5;28mself\u001B[39m\u001B[38;5;241m.\u001B[39madd_line(line)\n",
      "File \u001B[0;32m~/miniconda3/lib/python3.11/site-packages/matplotlib/axes/_base.py:303\u001B[0m, in \u001B[0;36m_process_plot_var_args.__call__\u001B[0;34m(self, axes, data, *args, **kwargs)\u001B[0m\n\u001B[1;32m    301\u001B[0m     this \u001B[38;5;241m+\u001B[39m\u001B[38;5;241m=\u001B[39m args[\u001B[38;5;241m0\u001B[39m],\n\u001B[1;32m    302\u001B[0m     args \u001B[38;5;241m=\u001B[39m args[\u001B[38;5;241m1\u001B[39m:]\n\u001B[0;32m--> 303\u001B[0m \u001B[38;5;28;01myield from\u001B[39;00m \u001B[38;5;28mself\u001B[39m\u001B[38;5;241m.\u001B[39m_plot_args(\n\u001B[1;32m    304\u001B[0m     axes, this, kwargs, ambiguous_fmt_datakey\u001B[38;5;241m=\u001B[39mambiguous_fmt_datakey)\n",
      "File \u001B[0;32m~/miniconda3/lib/python3.11/site-packages/matplotlib/axes/_base.py:499\u001B[0m, in \u001B[0;36m_process_plot_var_args._plot_args\u001B[0;34m(self, axes, tup, kwargs, return_kwargs, ambiguous_fmt_datakey)\u001B[0m\n\u001B[1;32m    496\u001B[0m     axes\u001B[38;5;241m.\u001B[39myaxis\u001B[38;5;241m.\u001B[39mupdate_units(y)\n\u001B[1;32m    498\u001B[0m \u001B[38;5;28;01mif\u001B[39;00m x\u001B[38;5;241m.\u001B[39mshape[\u001B[38;5;241m0\u001B[39m] \u001B[38;5;241m!=\u001B[39m y\u001B[38;5;241m.\u001B[39mshape[\u001B[38;5;241m0\u001B[39m]:\n\u001B[0;32m--> 499\u001B[0m     \u001B[38;5;28;01mraise\u001B[39;00m \u001B[38;5;167;01mValueError\u001B[39;00m(\u001B[38;5;124mf\u001B[39m\u001B[38;5;124m\"\u001B[39m\u001B[38;5;124mx and y must have same first dimension, but \u001B[39m\u001B[38;5;124m\"\u001B[39m\n\u001B[1;32m    500\u001B[0m                      \u001B[38;5;124mf\u001B[39m\u001B[38;5;124m\"\u001B[39m\u001B[38;5;124mhave shapes \u001B[39m\u001B[38;5;132;01m{\u001B[39;00mx\u001B[38;5;241m.\u001B[39mshape\u001B[38;5;132;01m}\u001B[39;00m\u001B[38;5;124m and \u001B[39m\u001B[38;5;132;01m{\u001B[39;00my\u001B[38;5;241m.\u001B[39mshape\u001B[38;5;132;01m}\u001B[39;00m\u001B[38;5;124m\"\u001B[39m)\n\u001B[1;32m    501\u001B[0m \u001B[38;5;28;01mif\u001B[39;00m x\u001B[38;5;241m.\u001B[39mndim \u001B[38;5;241m>\u001B[39m \u001B[38;5;241m2\u001B[39m \u001B[38;5;129;01mor\u001B[39;00m y\u001B[38;5;241m.\u001B[39mndim \u001B[38;5;241m>\u001B[39m \u001B[38;5;241m2\u001B[39m:\n\u001B[1;32m    502\u001B[0m     \u001B[38;5;28;01mraise\u001B[39;00m \u001B[38;5;167;01mValueError\u001B[39;00m(\u001B[38;5;124mf\u001B[39m\u001B[38;5;124m\"\u001B[39m\u001B[38;5;124mx and y can be no greater than 2D, but have \u001B[39m\u001B[38;5;124m\"\u001B[39m\n\u001B[1;32m    503\u001B[0m                      \u001B[38;5;124mf\u001B[39m\u001B[38;5;124m\"\u001B[39m\u001B[38;5;124mshapes \u001B[39m\u001B[38;5;132;01m{\u001B[39;00mx\u001B[38;5;241m.\u001B[39mshape\u001B[38;5;132;01m}\u001B[39;00m\u001B[38;5;124m and \u001B[39m\u001B[38;5;132;01m{\u001B[39;00my\u001B[38;5;241m.\u001B[39mshape\u001B[38;5;132;01m}\u001B[39;00m\u001B[38;5;124m\"\u001B[39m)\n",
      "\u001B[0;31mValueError\u001B[0m: x and y must have same first dimension, but have shapes (44100,) and (512,)"
     ]
    },
    {
     "data": {
      "text/plain": "<Figure size 640x480 with 1 Axes>",
      "image/png": "[encoded data removed]"
     },
     "metadata": {},
     "output_type": "display_data"
    }
   ],
   "source": [
    "from scipy.signal.windows import gaussian\n",
    "\n",
    "#Noch nicht das Ergebnis das wir wollen glaub\n",
    "def apply_gaussian_window(data, section_size=512):\n",
    "    sections = []\n",
    "    ffts = []\n",
    "    for i in range(0, len(data), section_size // 2):\n",
    "        section = data[i:i+section_size]\n",
    "\n",
    "        # Zero-pad the section to the fixed length\n",
    "        if len(section) < section_size:\n",
    "            section = np.pad(section, (0, section_size - len(section)))\n",
    "\n",
    "        # Create the Gaussian window to match the size of the section\n",
    "        window = gaussian(len(section), std=section_size/4)\n",
    "\n",
    "        # Apply the window to the section\n",
    "        windowed_section = section * window\n",
    "\n",
    "        # Apply FFT to the windowed section\n",
    "        fft_section = fft(windowed_section)\n",
    "\n",
    "        sections.append(windowed_section)\n",
    "        ffts.append(fft_section)\n",
    "\n",
    "    # Compute the average of the FFTs\n",
    "    avg_fft = np.mean(ffts, axis=0)\n",
    "\n",
    "    # Compute the amplitude spectrum\n",
    "    N = len(amplitude_spectrum)\n",
    "    xf = fftfreq(N, 1 / 44100)\n",
    "\n",
    "    return sections, ffts, amplitude_spectrum\n",
    "\n",
    "sections, ffts, amplitude_spectrum = apply_gaussian_window(triggered_data)\n",
    "\n",
    "# Plot the amplitude spectrum\n",
    "plt.plot(xf, amplitude_spectrum)\n",
    "plt.title(f\"{folder}: {file}\")\n",
    "plt.xlabel('Frequenz (Hz)')  # Set x-axis label\n",
    "plt.ylabel('Amplitude')  # Set y-axis label\n",
    "plt.show()\n",
    "\n",
    "\n"
   ],
   "metadata": {
    "collapsed": false,
    "ExecuteTime": {
     "start_time": "2023-12-19T14:56:29.888470Z",
     "end_time": "2023-12-19T14:56:29.938014Z"
    }
   }
  },
  {
   "cell_type": "markdown",
   "source": [],
   "metadata": {
    "collapsed": false
   }
  }
 ],
 "metadata": {
  "kernelspec": {
   "display_name": "Python 3",
   "language": "python",
   "name": "python3"
  },
  "language_info": {
   "codemirror_mode": {
    "name": "ipython",
    "version": 2
   },
   "file_extension": ".py",
   "mimetype": "text/x-python",
   "name": "python",
   "nbconvert_exporter": "python",
   "pygments_lexer": "ipython2",
   "version": "2.7.6"
  }
 },
 "nbformat": 4,
 "nbformat_minor": 0
}
