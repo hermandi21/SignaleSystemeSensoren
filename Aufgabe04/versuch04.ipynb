{
 "cells": [
  {
   "cell_type": "markdown",
   "source": [],
   "metadata": {
    "collapsed": false
   }
  },
  {
   "cell_type": "markdown",
   "source": [
    "a) Python-Routine um lars seine .npy-Dateien als Diagramm darzustellen"
   ],
   "metadata": {
    "collapsed": false
   }
  },
  {
   "cell_type": "code",
   "execution_count": null,
   "outputs": [],
   "source": [
    "import numpy as np\n",
    "import matplotlib.pyplot as plt\n",
    "import os\n",
    "from scipy.fft import fft, fftfreq\n",
    "\n",
    "folders = [\"hoch\", \"links\", \"rechts\", \"tief\"]\n",
    "\n",
    "#44.100 Abtastvorgänge pro Sekunde\n",
    "def cut_signal(data, threshold=0.01, fs=44100):\n",
    "    start_index = 0\n",
    "    for i, sample in enumerate(data):\n",
    "        if abs(sample) > threshold:\n",
    "            start_index = i\n",
    "            break\n",
    "    end_index = start_index + fs\n",
    "    cut_data = data[start_index:end_index]\n",
    "    if len(cut_data) < fs:\n",
    "        cut_data = np.append(cut_data, [0]*(fs - len(cut_data)))\n",
    "    return cut_data\n",
    "\n",
    "for folder in folders:\n",
    "    files = [file for file in os.listdir(f\"lars/{folder}\") if file.endswith(\".npy\")]\n",
    "    n = len(files)\n",
    "    fig, axs = plt.subplots(n, 2, figsize=(10, n*2))\n",
    "    fs = 44100\n",
    "\n",
    "    for i, file in enumerate(files):\n",
    "        data = np.load(f\"andy/{folder}/\" + file)\n",
    "        triggered_data = cut_signal(data)\n",
    "\n",
    "        # Plot original data\n",
    "        axs[i, 0].plot(data)\n",
    "        axs[i, 0].set_title(f\"Original data: {folder}: {file}\")\n",
    "        axs[i, 0].set_xlabel('Sample')\n",
    "        axs[i, 0].set_ylabel('Amplitude')\n",
    "\n",
    "        # Plot triggered data\n",
    "        axs[i, 1].plot(triggered_data)\n",
    "        axs[i, 1].set_title(f\"Triggered data: {folder}: {file}\")\n",
    "        axs[i, 1].set_xlabel('Sample')\n",
    "        axs[i, 1].set_ylabel('Amplitude')\n",
    "\n",
    "    plt.tight_layout()\n",
    "    plt.show()"
   ],
   "metadata": {
    "collapsed": false
   }
  },
  {
   "cell_type": "markdown",
   "source": [
    "c) Bestimmung des Amplitudenspektrums\n",
    "Stelle dieses Amplitudenspektrum graphisch dar."
   ],
   "metadata": {
    "collapsed": false
   }
  },
  {
   "cell_type": "code",
   "execution_count": null,
   "outputs": [],
   "source": [
    "# Apply the function to the data\n",
    "for folder in folders:\n",
    "    files = [file for file in os.listdir(f\"lars/{folder}\") if file.endswith(\".npy\")]\n",
    "\n",
    "    # Create a grid of 1 column and enough rows to hold all plots\n",
    "    n = len(files)\n",
    "    fig, axs = plt.subplots(n, 1, figsize=(10, n*2))\n",
    "    fs = 44100\n",
    "\n",
    "    for i, file in enumerate(files):\n",
    "        data = np.load(f\"lars/{folder}/\" + file)\n",
    "        triggered_data = cut_signal(data)\n",
    "\n",
    "        # Compute the amplitude spectrum\n",
    "        N = len(triggered_data)\n",
    "        yf = fft(triggered_data)\n",
    "        xf = fftfreq(N, 1 / 44100)\n",
    "\n",
    "        axs[i].plot(xf, np.abs(yf))\n",
    "        axs[i].set_title(f\"{folder}: {file}\")\n",
    "        axs[i].set_xlabel('Frequenz (Hz)')  # Set x-axis label\n",
    "        axs[i].set_ylabel('Amplitude')  # Set y-axis label\n",
    "\n",
    "    plt.tight_layout()\n",
    "    plt.show()"
   ],
   "metadata": {
    "collapsed": false
   }
  },
  {
   "cell_type": "markdown",
   "source": [
    "d) Implementierung des Windowing-Verfahrens"
   ],
   "metadata": {
    "collapsed": false
   }
  },
  {
   "cell_type": "markdown",
   "source": [],
   "metadata": {
    "collapsed": false
   }
  },
  {
   "cell_type": "code",
   "execution_count": null,
   "outputs": [],
   "source": [
    "def windowing(data, window_size=512):\n",
    "    hop_size = window_size // 2\n",
    "\n",
    "    # Erstelle eine Gaußsche Fensterfunktion mit einer Standardabweichung von 1/4 der Fenstergröße.\n",
    "    window = gaussian(window_size, std=window_size / 4)\n",
    "    windowed_data = []\n",
    "\n",
    "    for i in range(0, len(data) - window_size + 1, hop_size):\n",
    "        # Extrahiere einen Abschnitt (Fenster) der Größe 'window_size' aus den Daten.\n",
    "        section = data[i:i + window_size]\n",
    "\n",
    "        # Wende die Gaußsche Fensterfunktion auf den Abschnitt an, um ihn zu gewichten.\n",
    "        windowed_section = section * window\n",
    "\n",
    "        # Füge den gewichteten Abschnitt zur Liste der gefensterten Daten hinzu.\n",
    "        windowed_data.append(windowed_section)\n",
    "\n",
    "    return windowed_data\n",
    "\n"
   ],
   "metadata": {
    "collapsed": false
   }
  },
  {
   "cell_type": "code",
   "execution_count": null,
   "outputs": [],
   "source": [
    "import os\n",
    "import numpy as np\n",
    "import matplotlib.pyplot as plt\n",
    "from scipy.fftpack import fft, fftfreq\n",
    "from scipy.signal.windows import gaussian\n",
    "\n",
    "# apply windowing function to the data\n",
    "for folder in folders:\n",
    "    files = [file for file in os.listdir(f\"lars/{folder}\") if file.endswith(\".npy\")]\n",
    "\n",
    "    # Create a grid of 1 column and enough rows to hold all plots\n",
    "    n = len(files)\n",
    "    fig, axs = plt.subplots(n, 1, figsize=(10, n*2))\n",
    "    fs = 44100\n",
    "\n",
    "    for i, file in enumerate(files):\n",
    "        data = np.load(f\"lars/{folder}/\" + file)\n",
    "        triggered_data = cut_signal(data)\n",
    "        windowed_data = windowing(triggered_data)\n",
    "\n",
    "        # Compute the amplitude spectrum\n",
    "        N = len(windowed_data[0])\n",
    "        yf = fft(windowed_data[0])\n",
    "        xf = fftfreq(N, 1 / 44100)\n",
    "\n",
    "        axs[i].plot(xf, (yf))\n",
    "        axs[i].set_title(f\"{folder}: {file}\")\n",
    "        axs[i].set_xlabel('Frequenz (Hz)')  # Set x-axis label\n",
    "        axs[i].set_ylabel('Amplitude')  # Set y-axis label\n",
    "\n",
    "    plt.tight_layout()\n",
    "    plt.show()\n",
    "\n",
    "\n"
   ],
   "metadata": {
    "collapsed": false
   }
  }
 ],
 "metadata": {
  "kernelspec": {
   "display_name": "Python 3",
   "language": "python",
   "name": "python3"
  },
  "language_info": {
   "codemirror_mode": {
    "name": "ipython",
    "version": 2
   },
   "file_extension": ".py",
   "mimetype": "text/x-python",
   "name": "python",
   "nbconvert_exporter": "python",
   "pygments_lexer": "ipython2",
   "version": "2.7.6"
  }
 },
 "nbformat": 4,
 "nbformat_minor": 0
}
